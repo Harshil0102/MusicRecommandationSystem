{
 "cells": [
  {
   "cell_type": "code",
   "execution_count": 7,
   "metadata": {},
   "outputs": [
    {
     "name": "stderr",
     "output_type": "stream",
     "text": [
      "Some weights of ViTForImageClassification were not initialized from the model checkpoint at google/vit-base-patch16-224-in21k and are newly initialized: ['classifier.bias', 'classifier.weight']\n",
      "You should probably TRAIN this model on a down-stream task to be able to use it for predictions and inference.\n"
     ]
    },
    {
     "name": "stdout",
     "output_type": "stream",
     "text": [
      "Detected Emotion: LABEL_1\n",
      "Recommended Songs:\n",
      "Venom - Music From The Motion Picture by Eminem - https://open.spotify.com/track/3kpYJjvM8Ja6btr5hEJLWc\n",
      "Venom - Music From The Motion Picture by Eminem - https://open.spotify.com/track/2SL6oP2YAEQbqsrkOzRGO4\n",
      "Venom by $uicideboy$ - https://open.spotify.com/track/4RYhSQFFlquCTb8XRMJgFU\n",
      "Venom - Music From The Motion Picture by Eminem - https://open.spotify.com/track/4lcN22k03kmMXMxI26GYPF\n",
      "Venom by Ghostemane - https://open.spotify.com/track/7tUXZgLbOCvRJ9FBlairoU\n"
     ]
    }
   ],
   "source": [
    "import cv2\n",
    "from transformers import pipeline\n",
    "import spotipy\n",
    "from spotipy.oauth2 import SpotifyClientCredentials\n",
    "\n",
    "def capture_image():\n",
    "    # Open a connection to the webcam\n",
    "    cap = cv2.VideoCapture(0)\n",
    "\n",
    "    if not cap.isOpened():\n",
    "        print(\"Could not open webcam\")\n",
    "        return None\n",
    "\n",
    "    # Capture a single frame\n",
    "    ret, frame = cap.read()\n",
    "\n",
    "    if not ret:\n",
    "        print(\"Failed to capture image\")\n",
    "        return None\n",
    "\n",
    "    # Release the webcam\n",
    "    cap.release()\n",
    "\n",
    "    # Save the captured image\n",
    "    image_path = \"captured_image.jpg\"\n",
    "    cv2.imwrite(image_path, frame)\n",
    "\n",
    "    return image_path\n",
    "\n",
    "def recognize_emotion(image_path):\n",
    "    # Load a pre-trained emotion recognition model\n",
    "    emotion_recognizer = pipeline('image-classification', model='google/vit-base-patch16-224-in21k')\n",
    "\n",
    "    # Recognize the emotion\n",
    "    emotion = emotion_recognizer(image_path)\n",
    "\n",
    "    return emotion[0]['label']  # Return the detected emotion label\n",
    "\n",
    "def get_song_recommendations(emotion):\n",
    "    # Spotify API credentials\n",
    "    client_id = \"380a6b3535dc420a905dccf328a0e165\"  # Replace with your actual client_id\n",
    "    client_secret = \"b0ca7947448246d28aafc40f49610cf4\"  # Replace with your actual client_secret\n",
    "\n",
    "    # Authenticate with Spotify\n",
    "    sp = spotipy.Spotify(auth_manager=SpotifyClientCredentials(client_id=client_id, client_secret=client_secret))\n",
    "\n",
    "    # Map emotion to mood (you can customize this)\n",
    "    mood_map = {\n",
    "        \"Happy\": \"happy\",\n",
    "        \"Sad\": \"sad\",\n",
    "        \"Angry\": \"angry\",\n",
    "        \"Disgusted\": \"disgust\",\n",
    "        \"Fearful\": \"fear\",\n",
    "        \"Neutral\": \"neutral\",\n",
    "        \"Surprised\": \"surprise\"\n",
    "    }\n",
    "\n",
    "    mood = mood_map.get(emotion, \"venom\")  # Default to \"happy\" if emotion is not mapped\n",
    "\n",
    "    # Search for tracks based on mood\n",
    "    results = sp.search(q=mood, type='track', limit=5)\n",
    "\n",
    "    recommendations = []\n",
    "    for idx, track in enumerate(results['tracks']['items']):\n",
    "        recommendations.append({\n",
    "            \"name\": track['name'],\n",
    "            \"artist\": track['artists'][0]['name'],\n",
    "            \"url\": track['external_urls']['spotify']\n",
    "        })\n",
    "\n",
    "    return recommendations\n",
    "\n",
    "def main():\n",
    "    # Capture an image from the camera\n",
    "    image_path = capture_image()\n",
    "\n",
    "    if image_path:\n",
    "        # Recognize the emotion in the captured image\n",
    "        emotion = recognize_emotion(image_path)\n",
    "        print(f\"Detected Emotion: {emotion}\")\n",
    "\n",
    "        # Get song recommendations based on the detected emotion\n",
    "        recommendations = get_song_recommendations(emotion)\n",
    "        print(\"Recommended Songs:\")\n",
    "        for rec in recommendations:\n",
    "            print(f\"{rec['name']} by {rec['artist']} - {rec['url']}\")\n",
    "\n",
    "if __name__ == \"__main__\":\n",
    "    main()\n"
   ]
  },
  {
   "cell_type": "code",
   "execution_count": null,
   "metadata": {},
   "outputs": [],
   "source": []
  },
  {
   "cell_type": "code",
   "execution_count": null,
   "metadata": {},
   "outputs": [],
   "source": []
  }
 ],
 "metadata": {
  "kernelspec": {
   "display_name": "Python 3",
   "language": "python",
   "name": "python3"
  },
  "language_info": {
   "codemirror_mode": {
    "name": "ipython",
    "version": 3
   },
   "file_extension": ".py",
   "mimetype": "text/x-python",
   "name": "python",
   "nbconvert_exporter": "python",
   "pygments_lexer": "ipython3",
   "version": "3.12.4"
  }
 },
 "nbformat": 4,
 "nbformat_minor": 2
}
