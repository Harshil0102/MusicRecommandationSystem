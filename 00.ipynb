{
 "cells": [
  {
   "cell_type": "markdown",
   "metadata": {},
   "source": [
    "# Spotify Data Extraction and Recommendation System"
   ]
  },
  {
   "cell_type": "markdown",
   "metadata": {},
   "source": [
    "## Authentication"
   ]
  },
  {
   "cell_type": "code",
   "metadata": {},
   "source": [
    "import spotipy\n",
    "from spotipy.oauth2 import SpotifyClientCredentials, SpotifyOAuth\n",
    "import pandas as pd\n",
    "import matplotlib.pyplot as plt\n",
    "import seaborn as sns\n",
    "from sklearn.preprocessing import StandardScaler\n",
    "from sklearn.model_selection import train_test_split\n",
    "from sklearn.neighbors import NearestNeighbors\n",
    "\n",
    "# Spotify API credentials\n",
    "CLIENT_ID = '380a6b3535dc420a905dccf328a0e165'\n",
    "CLIENT_SECRET = 'b0ca7947448246d28aafc40f49610cf4'\n",
    "REDIRECT_URI = 'http://localhost:8888/callback/'\n",
    "\n",
    "# Authenticate with user permission\n",
    "scope = 'user-top-read user-library-read user-read-recently-played'\n",
    "sp = spotipy.Spotify(auth_manager=SpotifyOAuth(client_id=CLIENT_ID,\n",
    "                                               client_secret=CLIENT_SECRET,\n",
    "                                               redirect_uri=REDIRECT_URI,\n",
    "                                               scope=scope))"
   ]
  },
  {
   "cell_type": "markdown",
   "metadata": {},
   "source": [
    "## Function Definitions"
   ]
  },
  {
   "cell_type": "code",
   "metadata": {},
   "source": [
    "# Function to get user's top tracks\n",
    "def get_user_top_tracks():\n",
    "    results = sp.current_user_top_tracks(limit=50)\n",
    "    tracks = results['items']\n",
    "    while results['next']:\n",
    "        results = sp.next(results)\n",
    "        tracks.extend(results['items'])\n",
    "    return tracks\n",
    "\n",
    "# Function to get user's saved tracks\n",
    "def get_user_saved_tracks():\n",
    "    results = sp.current_user_saved_tracks(limit=50)\n",
    "    tracks = results['items']\n",
    "    while results['next']:\n",
    "        results = sp.next(results)\n",
    "        tracks.extend(results['items'])\n",
    "    return tracks\n",
    "\n",
    "# Function to get user's recently played tracks\n",
    "def get_user_recently_played():\n",
    "    results = sp.current_user_recently_played(limit=50)\n",
    "    tracks = results['items']\n",
    "    while results['next']:\n",
    "        results = sp.next(results)\n",
    "        tracks.extend(results['items'])\n",
    "    return tracks\n",
    "\n",
    "# Function to get playlist tracks\n",
    "def get_playlist_tracks(username, playlist_id):\n",
    "    try:\n",
    "        results = sp.user_playlist_tracks(username, playlist_id)\n",
    "        tracks = results['items']\n",
    "        while results['next']:\n",
    "            results = sp.next(results)\n",
    "            tracks.extend(results['items'])\n",
    "        return tracks\n",
    "    except Exception as e:\n",
    "        print(f\"Error fetching playlist {playlist_id}: {e}\")\n",
    "        return []\n",
    "\n",
    "# Function to extract track features\n",
    "def get_track_features(track_ids):\n",
    "    features = []\n",
    "    for i in range(0, len(track_ids), 50):  # API allows max 50 track IDs per request\n",
    "        audio_features = sp.audio_features(track_ids[i:i+50])\n",
    "        features.extend(audio_features)\n",
    "    return features"
   ]
  },
  {
   "cell_type": "markdown",
   "metadata": {},
   "source": [
    "## Fetching Playlist Tracks"
   ]
  },
  {
   "cell_type": "code",
   "metadata": {},
   "source": [
    "# Example playlists and user\n",
    "username = '31e7ktmeqdqix4gwr6urknhntqwa'\n",
    "playlist_ids = [\n",
    "    '27A58P3HJSPProVdIZRWg2',\n",
    "    '5VuDPSYYfepqqqxQkRiz8K',\n",
    "    '3oJVKoOfuetT3SRAywKf3r',\n",
    "    '1fyjAq2jAnE3QOE84XKlRH'\n",
    "]\n",
    "\n",
    "all_tracks = []\n",
    "all_features = []\n",
    "\n",
    "# Iterate through each playlist\n",
    "for playlist_id in playlist_ids:\n",
    "    tracks = get_playlist_tracks(username, playlist_id)\n",
    "    if tracks:  # Only proceed if tracks were successfully fetched\n",
    "        track_ids = [track['track']['id'] for track in tracks if track and track['track']]\n",
    "        all_tracks.extend(track_ids)\n",
    "\n",
    "        # Fetch features for each track\n",
    "        track_features = get_track_features(track_ids)\n",
    "        all_features.extend(track_features)\n",
    "\n",
    "# Convert to DataFrame\n",
    "df_playlist_tracks = pd.DataFrame(all_features)\n",
    "\n",
    "# Save to CSV\n",
    "df_playlist_tracks.to_csv('playlist_tracks.csv', index=False)\n",
    "print(\"Data saved to playlist_tracks.csv\")"
   ]
  },
  {
   "cell_type": "markdown",
   "metadata": {},
   "source": [
    "## Fetching User's Top, Saved, and Recently Played Tracks"
   ]
  },
  {
   "cell_type": "code",
   "metadata": {},
   "source": [
    "# Get user's top, saved, and recently played tracks\n",
    "user_top_tracks = get_user_top_tracks()\n",
    "user_saved_tracks = get_user_saved_tracks()\n",
    "user_recently_played = get_user_recently_played()\n",
    "\n",
    "# Extract track IDs\n",
    "user_top_track_ids = [track['id'] for track in user_top_tracks]\n",
    "user_saved_track_ids = [track['track']['id'] for track in user_saved_tracks]\n",
    "user_recently_played_ids = [track['track']['id'] for track in user_recently_played]\n",
    "\n",
    "user_track_ids = user_top_track_ids + user_saved_track_ids + user_recently_played_ids\n",
    "\n",
    "# Fetch features for user's tracks\n",
    "user_track_features = get_track_features(user_track_ids)\n",
    "\n",
    "# Convert to DataFrame\n",
    "df_user_tracks = pd.DataFrame(user_track_features)\n",
    "\n",
    "# Save to CSV\n",
    "df_user_tracks.to_csv('user_tracks.csv', index=False)\n",
    "print(\"Data saved to user_tracks.csv\")"
   ]
  },
  {
   "cell_type": "markdown",
   "metadata": {},
   "source": [
    "## Data Analysis and Visualization"
   ]
  },
  {
   "cell_type": "code",
   "metadata": {},
   "source": [
    "# Load the data\n",
    "df_playlist_tracks = pd.read_csv('playlist_tracks.csv')\n",
    "df_user_tracks = pd.read_csv('user_tracks.csv')\n",
    "\n",
    "# Check for missing values\n",
    "print(df_playlist_tracks.isnull().sum())\n",
    "print(df_user_tracks.isnull().sum())\n",
    "\n",
    "# Fill or drop missing values if necessary\n",
    "df_playlist_tracks.fillna(0, inplace=True)\n",
    "df_user_tracks.fillna(0, inplace=True)\n",
    "\n",
    "# Plot feature distributions for playlist tracks\n",
    "features = ['danceability', 'energy', 'key', 'loudness', 'mode', 'speechiness', \n",
    "            'acousticness', 'instrumentalness', 'liveness', 'valence', 'tempo']\n",
    "\n",
    "plt.figure(figsize=(15, 10))\n",
    "for i, feature in enumerate(features):\n",
    "    plt.subplot(4, 3, i+1)\n",
    "    sns.histplot(df_playlist_tracks[feature], kde=True)\n",
    "    plt.title(f'Distribution of {feature}')\n",
    "plt.tight_layout()\n",
    "plt.show()"
   ]
  },
  {
   "cell_type": "markdown",
   "metadata": {},
   "source": [
    "## Normalizing Features"
   ]
  },
  {
   "cell_type": "code",
   "metadata": {},
   "source": [
    "# Normalize features if necessary\n",
    "scaler = StandardScaler()\n",
    "df_playlist_tracks[features] = scaler.fit_transform(df_playlist_tracks[features])\n",
    "df_user_tracks[features] = scaler.transform(df_user_tracks[features])"
   ]
  },
  {
   "cell_type": "markdown",
   "metadata": {},
   "source": [
    "## Training k-NN Model"
   ]
  },
  {
   "cell_type": "code",
   "metadata": {},
   "source": [
    "# Prepare data for training\n",
    "X_playlist = df_playlist_tracks[features]\n",
    "X_user = df_user_tracks[features]\n",
    "\n",
    "# Split the data for evaluation\n",
    "X_train, X_test = train_test_split(X_playlist, test_size=0.2, random_state=42)\n",
    "\n",
    "# Train a k-NN model\n",
    "knn = NearestNeighbors(n_neighbors=10, algorithm='auto')\n",
    "knn.fit(X_train)\n",
    "\n",
    "# Find nearest neighbors for user's tracks\n",
    "distances, indices = knn.kneighbors(X_user)\n",
    "print(\"Distances:\", distances)\n",
    "print(\"Indices:\", indices)\n",
    "\n",
    "# Get recommended track IDs\n",
    "recommended_track_ids = X_train.iloc[indices.flatten()].index\n",
    "\n",
    "# Fetch recommended track details from the playlist data\n",
    "recommended_tracks = df_playlist_tracks.loc[recommended_track_ids]\n",
    "\n",
    "# Display recommended tracks\n",
    "print(\"Recommended Tracks:\")\n",
    "print(recommended_tracks[['id', 'uri', 'track_href', 'analysis_url', 'duration_ms']])"
   ]
  },
  {
   "cell_type": "markdown",
   "metadata": {},
   "source": [
    "## Mood-Based Recommendation Engine"
   ]
  },
  {
   "cell_type": "code",
   "metadata": {},
   "source": [
    "# Function to recommend songs based on user-selected mood\n",
    "def recommend_by_mood(mood, user_tracks, playlist_tracks):\n",
    "    # User-selected mood\n",
    "    user_features = user_tracks[['danceability', 'energy', 'valence']].values.reshape(1, -1)\n",
    "    playlist_features = playlist_tracks[['danceability', 'energy', 'valence']].values\n",
    "\n",
    "    # Option 1: Simple Distance-based Recommendation\n",
    "    knn = NearestNeighbors(n_neighbors=10, algorithm='auto')\n",
    "    knn.fit(playlist_features)\n",
    "    distances, indices = knn.kneighbors(user_features)\n",
    "    recommended_track_ids = playlist_tracks.iloc[indices.flatten()].index\n",
    "\n",
    "    # Return recommended tracks\n",
    "    return playlist_tracks.loc[recommended_track_ids]\n",
    "\n",
    "# Example usage (replace with actual user and playlist data)\n",
    "user_tracks = pd.DataFrame({'danceability': [0.5], 'energy': [0.8], 'valence': [0.7]})  # Example user tracks\n",
    "\n",
    "# Get user's selected mood\n",
    "user_mood = input(\"Enter your mood (e.g., happy, energetic, relaxed): \")\n",
    "\n",
    "# Recommend songs based on mood\n",
    "recommended_tracks = recommend_by_mood(user_mood, user_tracks, playlist_tracks)\n",
    "\n",
    "# Display recommended tracks (modify as needed)\n",
    "print(\"Recommended songs for\", user_mood, \":\")\n",
    "print(recommended_tracks[['id', 'name', 'artists']].head())  # Assuming relevant columns in playlist_tracks"
   ]
  }
 ],
 "metadata": {
  "kernelspec": {
   "display_name": "Python 3",
   "language": "python",
   "name": "python3"
  },
  "language_info": {
   "name": "python",
   "version": "3.8.5"
  }
 },
 "nbformat": 4,
 "nbformat_minor": 4
}
